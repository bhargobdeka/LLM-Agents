{
 "cells": [
  {
   "cell_type": "code",
   "execution_count": 5,
   "metadata": {},
   "outputs": [
    {
     "name": "stdout",
     "output_type": "stream",
     "text": [
      "Requirement already satisfied: swarms in /opt/miniconda3/envs/.venv/lib/python3.10/site-packages (5.1.4)\n",
      "Collecting termcolor\n",
      "  Using cached termcolor-2.4.0-py3-none-any.whl.metadata (6.1 kB)\n",
      "Requirement already satisfied: Pillow==10.3.0 in /opt/miniconda3/envs/.venv/lib/python3.10/site-packages (from swarms) (10.3.0)\n",
      "Requirement already satisfied: PyYAML in /opt/miniconda3/envs/.venv/lib/python3.10/site-packages (from swarms) (6.0.1)\n",
      "Requirement already satisfied: asyncio<4.0,>=3.4.3 in /opt/miniconda3/envs/.venv/lib/python3.10/site-packages (from swarms) (3.4.3)\n",
      "Requirement already satisfied: backoff==2.2.1 in /opt/miniconda3/envs/.venv/lib/python3.10/site-packages (from swarms) (2.2.1)\n",
      "Requirement already satisfied: docstring_parser==0.16 in /opt/miniconda3/envs/.venv/lib/python3.10/site-packages (from swarms) (0.16)\n",
      "Requirement already satisfied: langchain-community==0.0.29 in /opt/miniconda3/envs/.venv/lib/python3.10/site-packages (from swarms) (0.0.29)\n",
      "Requirement already satisfied: langchain-experimental==0.0.55 in /opt/miniconda3/envs/.venv/lib/python3.10/site-packages (from swarms) (0.0.55)\n",
      "Requirement already satisfied: loguru==0.7.2 in /opt/miniconda3/envs/.venv/lib/python3.10/site-packages (from swarms) (0.7.2)\n",
      "Requirement already satisfied: opencv-python-headless in /opt/miniconda3/envs/.venv/lib/python3.10/site-packages (from swarms) (4.10.0.82)\n",
      "Requirement already satisfied: psutil in /opt/miniconda3/envs/.venv/lib/python3.10/site-packages (from swarms) (5.9.0)\n",
      "Requirement already satisfied: pydantic==2.7.1 in /opt/miniconda3/envs/.venv/lib/python3.10/site-packages (from swarms) (2.7.1)\n",
      "Requirement already satisfied: pypdf==4.1.0 in /opt/miniconda3/envs/.venv/lib/python3.10/site-packages (from swarms) (4.1.0)\n",
      "Requirement already satisfied: python-dotenv in /opt/miniconda3/envs/.venv/lib/python3.10/site-packages (from swarms) (1.0.1)\n",
      "Requirement already satisfied: ratelimit==2.2.1 in /opt/miniconda3/envs/.venv/lib/python3.10/site-packages (from swarms) (2.2.1)\n",
      "Requirement already satisfied: sentry-sdk in /opt/miniconda3/envs/.venv/lib/python3.10/site-packages (from swarms) (2.4.0)\n",
      "Requirement already satisfied: tenacity==8.3.0 in /opt/miniconda3/envs/.venv/lib/python3.10/site-packages (from swarms) (8.3.0)\n",
      "Requirement already satisfied: toml in /opt/miniconda3/envs/.venv/lib/python3.10/site-packages (from swarms) (0.10.2)\n",
      "Requirement already satisfied: torch<3.0,>=2.1.1 in /opt/miniconda3/envs/.venv/lib/python3.10/site-packages (from swarms) (2.3.0)\n",
      "Requirement already satisfied: transformers<5.0.0,>=4.39.0 in /opt/miniconda3/envs/.venv/lib/python3.10/site-packages (from swarms) (4.41.1)\n",
      "Requirement already satisfied: SQLAlchemy<3,>=1.4 in /opt/miniconda3/envs/.venv/lib/python3.10/site-packages (from langchain-community==0.0.29->swarms) (2.0.30)\n",
      "Requirement already satisfied: aiohttp<4.0.0,>=3.8.3 in /opt/miniconda3/envs/.venv/lib/python3.10/site-packages (from langchain-community==0.0.29->swarms) (3.9.5)\n",
      "Requirement already satisfied: dataclasses-json<0.7,>=0.5.7 in /opt/miniconda3/envs/.venv/lib/python3.10/site-packages (from langchain-community==0.0.29->swarms) (0.6.6)\n",
      "Requirement already satisfied: langchain-core<0.2.0,>=0.1.33 in /opt/miniconda3/envs/.venv/lib/python3.10/site-packages (from langchain-community==0.0.29->swarms) (0.1.52)\n",
      "Requirement already satisfied: langsmith<0.2.0,>=0.1.0 in /opt/miniconda3/envs/.venv/lib/python3.10/site-packages (from langchain-community==0.0.29->swarms) (0.1.63)\n",
      "Requirement already satisfied: numpy<2,>=1 in /opt/miniconda3/envs/.venv/lib/python3.10/site-packages (from langchain-community==0.0.29->swarms) (1.26.4)\n",
      "Requirement already satisfied: requests<3,>=2 in /opt/miniconda3/envs/.venv/lib/python3.10/site-packages (from langchain-community==0.0.29->swarms) (2.31.0)\n",
      "Requirement already satisfied: langchain<0.2.0,>=0.1.13 in /opt/miniconda3/envs/.venv/lib/python3.10/site-packages (from langchain-experimental==0.0.55->swarms) (0.1.13)\n",
      "Requirement already satisfied: annotated-types>=0.4.0 in /opt/miniconda3/envs/.venv/lib/python3.10/site-packages (from pydantic==2.7.1->swarms) (0.7.0)\n",
      "Requirement already satisfied: pydantic-core==2.18.2 in /opt/miniconda3/envs/.venv/lib/python3.10/site-packages (from pydantic==2.7.1->swarms) (2.18.2)\n",
      "Requirement already satisfied: typing-extensions>=4.6.1 in /opt/miniconda3/envs/.venv/lib/python3.10/site-packages (from pydantic==2.7.1->swarms) (4.11.0)\n",
      "Requirement already satisfied: filelock in /opt/miniconda3/envs/.venv/lib/python3.10/site-packages (from torch<3.0,>=2.1.1->swarms) (3.14.0)\n",
      "Requirement already satisfied: sympy in /opt/miniconda3/envs/.venv/lib/python3.10/site-packages (from torch<3.0,>=2.1.1->swarms) (1.12)\n",
      "Requirement already satisfied: networkx in /opt/miniconda3/envs/.venv/lib/python3.10/site-packages (from torch<3.0,>=2.1.1->swarms) (3.3)\n",
      "Requirement already satisfied: jinja2 in /opt/miniconda3/envs/.venv/lib/python3.10/site-packages (from torch<3.0,>=2.1.1->swarms) (3.1.4)\n",
      "Requirement already satisfied: fsspec in /opt/miniconda3/envs/.venv/lib/python3.10/site-packages (from torch<3.0,>=2.1.1->swarms) (2024.5.0)\n",
      "Requirement already satisfied: huggingface-hub<1.0,>=0.23.0 in /opt/miniconda3/envs/.venv/lib/python3.10/site-packages (from transformers<5.0.0,>=4.39.0->swarms) (0.23.2)\n",
      "Requirement already satisfied: packaging>=20.0 in /opt/miniconda3/envs/.venv/lib/python3.10/site-packages (from transformers<5.0.0,>=4.39.0->swarms) (23.2)\n",
      "Requirement already satisfied: regex!=2019.12.17 in /opt/miniconda3/envs/.venv/lib/python3.10/site-packages (from transformers<5.0.0,>=4.39.0->swarms) (2024.5.15)\n",
      "Requirement already satisfied: tokenizers<0.20,>=0.19 in /opt/miniconda3/envs/.venv/lib/python3.10/site-packages (from transformers<5.0.0,>=4.39.0->swarms) (0.19.1)\n",
      "Requirement already satisfied: safetensors>=0.4.1 in /opt/miniconda3/envs/.venv/lib/python3.10/site-packages (from transformers<5.0.0,>=4.39.0->swarms) (0.4.3)\n",
      "Requirement already satisfied: tqdm>=4.27 in /opt/miniconda3/envs/.venv/lib/python3.10/site-packages (from transformers<5.0.0,>=4.39.0->swarms) (4.66.4)\n",
      "Requirement already satisfied: urllib3>=1.26.11 in /opt/miniconda3/envs/.venv/lib/python3.10/site-packages (from sentry-sdk->swarms) (2.2.1)\n",
      "Requirement already satisfied: certifi in /opt/miniconda3/envs/.venv/lib/python3.10/site-packages (from sentry-sdk->swarms) (2024.2.2)\n",
      "Requirement already satisfied: aiosignal>=1.1.2 in /opt/miniconda3/envs/.venv/lib/python3.10/site-packages (from aiohttp<4.0.0,>=3.8.3->langchain-community==0.0.29->swarms) (1.3.1)\n",
      "Requirement already satisfied: attrs>=17.3.0 in /opt/miniconda3/envs/.venv/lib/python3.10/site-packages (from aiohttp<4.0.0,>=3.8.3->langchain-community==0.0.29->swarms) (23.2.0)\n",
      "Requirement already satisfied: frozenlist>=1.1.1 in /opt/miniconda3/envs/.venv/lib/python3.10/site-packages (from aiohttp<4.0.0,>=3.8.3->langchain-community==0.0.29->swarms) (1.4.1)\n",
      "Requirement already satisfied: multidict<7.0,>=4.5 in /opt/miniconda3/envs/.venv/lib/python3.10/site-packages (from aiohttp<4.0.0,>=3.8.3->langchain-community==0.0.29->swarms) (6.0.5)\n",
      "Requirement already satisfied: yarl<2.0,>=1.0 in /opt/miniconda3/envs/.venv/lib/python3.10/site-packages (from aiohttp<4.0.0,>=3.8.3->langchain-community==0.0.29->swarms) (1.9.4)\n",
      "Requirement already satisfied: async-timeout<5.0,>=4.0 in /opt/miniconda3/envs/.venv/lib/python3.10/site-packages (from aiohttp<4.0.0,>=3.8.3->langchain-community==0.0.29->swarms) (4.0.3)\n",
      "Requirement already satisfied: marshmallow<4.0.0,>=3.18.0 in /opt/miniconda3/envs/.venv/lib/python3.10/site-packages (from dataclasses-json<0.7,>=0.5.7->langchain-community==0.0.29->swarms) (3.21.2)\n",
      "Requirement already satisfied: typing-inspect<1,>=0.4.0 in /opt/miniconda3/envs/.venv/lib/python3.10/site-packages (from dataclasses-json<0.7,>=0.5.7->langchain-community==0.0.29->swarms) (0.9.0)\n",
      "Requirement already satisfied: jsonpatch<2.0,>=1.33 in /opt/miniconda3/envs/.venv/lib/python3.10/site-packages (from langchain<0.2.0,>=0.1.13->langchain-experimental==0.0.55->swarms) (1.33)\n",
      "Requirement already satisfied: langchain-text-splitters<0.1,>=0.0.1 in /opt/miniconda3/envs/.venv/lib/python3.10/site-packages (from langchain<0.2.0,>=0.1.13->langchain-experimental==0.0.55->swarms) (0.0.2)\n",
      "Requirement already satisfied: orjson<4.0.0,>=3.9.14 in /opt/miniconda3/envs/.venv/lib/python3.10/site-packages (from langsmith<0.2.0,>=0.1.0->langchain-community==0.0.29->swarms) (3.10.3)\n",
      "Requirement already satisfied: charset-normalizer<4,>=2 in /opt/miniconda3/envs/.venv/lib/python3.10/site-packages (from requests<3,>=2->langchain-community==0.0.29->swarms) (3.3.2)\n",
      "Requirement already satisfied: idna<4,>=2.5 in /opt/miniconda3/envs/.venv/lib/python3.10/site-packages (from requests<3,>=2->langchain-community==0.0.29->swarms) (3.7)\n",
      "Requirement already satisfied: MarkupSafe>=2.0 in /opt/miniconda3/envs/.venv/lib/python3.10/site-packages (from jinja2->torch<3.0,>=2.1.1->swarms) (2.1.5)\n",
      "Requirement already satisfied: mpmath>=0.19 in /opt/miniconda3/envs/.venv/lib/python3.10/site-packages (from sympy->torch<3.0,>=2.1.1->swarms) (1.3.0)\n",
      "Requirement already satisfied: jsonpointer>=1.9 in /opt/miniconda3/envs/.venv/lib/python3.10/site-packages (from jsonpatch<2.0,>=1.33->langchain<0.2.0,>=0.1.13->langchain-experimental==0.0.55->swarms) (2.4)\n",
      "Requirement already satisfied: mypy-extensions>=0.3.0 in /opt/miniconda3/envs/.venv/lib/python3.10/site-packages (from typing-inspect<1,>=0.4.0->dataclasses-json<0.7,>=0.5.7->langchain-community==0.0.29->swarms) (1.0.0)\n",
      "Using cached termcolor-2.4.0-py3-none-any.whl (7.7 kB)\n",
      "Installing collected packages: termcolor\n",
      "Successfully installed termcolor-2.4.0\n",
      "Note: you may need to restart the kernel to use updated packages.\n"
     ]
    }
   ],
   "source": [
    "%pip install -U swarms termcolor"
   ]
  },
  {
   "cell_type": "code",
   "execution_count": 3,
   "metadata": {},
   "outputs": [],
   "source": [
    "import os\n",
    "import getpass\n",
    "\n",
    "os.environ[\"OPENAI_API_KEY\"] = getpass.getpass()"
   ]
  },
  {
   "cell_type": "code",
   "execution_count": 6,
   "metadata": {},
   "outputs": [
    {
     "name": "stderr",
     "output_type": "stream",
     "text": [
      "/opt/miniconda3/envs/.venv/lib/python3.10/site-packages/tqdm/auto.py:21: TqdmWarning: IProgress not found. Please update jupyter and ipywidgets. See https://ipywidgets.readthedocs.io/en/stable/user_install.html\n",
      "  from .autonotebook import tqdm as notebook_tqdm\n"
     ]
    }
   ],
   "source": [
    "from swarms import GPT4VisionAPI"
   ]
  },
  {
   "cell_type": "code",
   "execution_count": 7,
   "metadata": {},
   "outputs": [],
   "source": [
    "# Initialize GPT-4 Omni API\n",
    "api_key = os.environ[\"OPENAI_API_KEY\"]\n",
    "gpt4vision = GPT4VisionAPI(openai_api_key=api_key, model_name=\"gpt-4o\", max_tokens=1000)"
   ]
  },
  {
   "cell_type": "code",
   "execution_count": 10,
   "metadata": {},
   "outputs": [
    {
     "name": "stdout",
     "output_type": "stream",
     "text": [
      "The image is a selfie of an individual. The person is wearing a beige cap and dark sunglasses. They have a beard and moustache. The individual is also dressed in a colorful, patterned shirt. The background features a sky with scattered clouds, giving a bright and possibly sunny impression. The photograph seems to be taken outdoors.\n"
     ]
    }
   ],
   "source": [
    "# Define the image and task\n",
    "img = \"../figures/BD-selfie.jpg\"\n",
    "task = \"explain this image\"\n",
    "\n",
    "# Execute the task\n",
    "\n",
    "answer = gpt4vision.run(task, img)\n",
    "print(answer)"
   ]
  }
 ],
 "metadata": {
  "kernelspec": {
   "display_name": ".venv",
   "language": "python",
   "name": "python3"
  },
  "language_info": {
   "codemirror_mode": {
    "name": "ipython",
    "version": 3
   },
   "file_extension": ".py",
   "mimetype": "text/x-python",
   "name": "python",
   "nbconvert_exporter": "python",
   "pygments_lexer": "ipython3",
   "version": "3.10.14"
  }
 },
 "nbformat": 4,
 "nbformat_minor": 2
}
